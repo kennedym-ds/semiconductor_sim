{
 "cells": [
  {
   "cell_type": "markdown",
   "metadata": {},
   "source": [
    "# Example Tunnel Diode 3D Interactive",
    "",
    "[![Open in Colab](https://colab.research.google.com/assets/colab-badge.svg)](https://colab.research.google.com/github/kennedym-ds/semiconductor_sim/blob/main/examples/example_tunnel_diode_3d_interactive.ipynb)",
    "[![Binder](https://mybinder.org/badge_logo.svg)](https://mybinder.org/v2/gh/kennedym-ds/semiconductor_sim/main?filepath=examples/example_tunnel_diode_3d_interactive.ipynb)",
    "",
    "---",
    "",
    "*Interactive semiconductor device simulation using SemiconductorSim*"
   ]
  },
  {
   "cell_type": "code",
   "execution_count": null,
   "metadata": {},
   "outputs": [],
   "source": [
    "# Setup headless-safe plotting (Matplotlib)\n",
    "from semiconductor_sim.utils.plotting import use_headless_backend, apply_basic_style\n",
    "use_headless_backend('Agg')\n",
    "apply_basic_style()"
   ]
  },
  {
   "cell_type": "code",
   "execution_count": null,
   "metadata": {},
   "outputs": [],
   "source": [
    "# examples/example_tunnel_diode_3d_interactive.ipynb\n",
    "\n",
    "import numpy as np\n",
    "import plotly.graph_objs as go\n",
    "from plotly.subplots import make_subplots\n",
    "from semiconductor_sim import TunnelDiode\n",
    "import ipywidgets as widgets\n",
    "from IPython.display import display\n",
    "\n",
    "# Initialize widgets\n",
    "doping_p_slider = widgets.FloatLogSlider(\n",
    "    value=1e19,\n",
    "    base=10,\n",
    "    min=16,\n",
    "    max=20,\n",
    "    step=0.1,\n",
    "    description='Doping P:',\n",
    "    style={'description_width': 'initial'},\n",
    "    layout={'width': '50%'}\n",
    ")\n",
    "\n",
    "doping_n_slider = widgets.FloatLogSlider(\n",
    "    value=1e19,\n",
    "    base=10,\n",
    "    min=16,\n",
    "    max=20,\n",
    "    step=0.1,\n",
    "    description='Doping N:',\n",
    "    style={'description_width': 'initial'},\n",
    "    layout={'width': '50%'}\n",
    ")\n",
    "\n",
    "zener_voltage_slider = widgets.FloatSlider(\n",
    "    value=5.0,\n",
    "    min=3.0,\n",
    "    max=10.0,\n",
    "    step=0.1,\n",
    "    description='Zener Voltage (V):',\n",
    "    style={'description_width': 'initial'},\n",
    "    layout={'width': '50%'}\n",
    ")\n",
    "\n",
    "temperature_slider = widgets.FloatSlider(\n",
    "    value=300,\n",
    "    min=250,\n",
    "    max=400,\n",
    "    step=10,\n",
    "    description='Temperature (K):',\n",
    "    style={'description_width': 'initial'},\n",
    "    layout={'width': '50%'}\n",
    ")\n",
    "\n",
    "# Define voltage range\n",
    "voltage = np.linspace(-0.5, 10.0, 500)\n",
    "\n",
    "# Define update function\n",
    "def update_plot_3d(doping_p, doping_n, zener_voltage, temperature):\n",
    "    diode = TunnelDiode(\n",
    "        doping_p=doping_p,\n",
    "        doping_n=doping_n,\n",
    "        zener_voltage=zener_voltage,\n",
    "        temperature=temperature\n",
    "    )\n",
    "    current, recombination = diode.iv_characteristic(voltage, n_conc=1e18, p_conc=1e18)\n",
    "    \n",
    "    # Create 3D surface plot for Current vs Voltage and Temperature\n",
    "    temperature_range = np.linspace(250, 400, 100)\n",
    "    voltage_grid, temp_grid = np.meshgrid(voltage, temperature_range)\n",
    "    current_grid = diode.I_s * (np.exp(voltage_grid / (k_B * temperature_range / q)) - 1) - diode.I_s * (voltage_grid / (k_B"
   ]
  }
 ],
 "metadata": {
  "kernelspec": {
   "display_name": "Python 3",
   "language": "python",
   "name": "python3"
  },
  "language_info": {
   "codemirror_mode": {
    "name": "ipython",
    "version": 3
   },
   "file_extension": ".py",
   "mimetype": "text/x-python",
   "name": "python",
   "nbconvert_exporter": "python",
   "pygments_lexer": "ipython3",
   "version": "3.13.6"
  }
 },
 "nbformat": 4,
 "nbformat_minor": 2
}