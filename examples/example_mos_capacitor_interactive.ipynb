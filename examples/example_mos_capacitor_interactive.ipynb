{
 "cells": [
  {
   "cell_type": "markdown",
   "metadata": {},
   "source": [
    "# Example Mos Capacitor Interactive",
    "",
    "[![Open in Colab](https://colab.research.google.com/assets/colab-badge.svg)](https://colab.research.google.com/github/kennedym-ds/semiconductor_sim/blob/main/examples/example_mos_capacitor_interactive.ipynb)",
    "[![Binder](https://mybinder.org/badge_logo.svg)](https://mybinder.org/v2/gh/kennedym-ds/semiconductor_sim/main?filepath=examples/example_mos_capacitor_interactive.ipynb)",
    "",
    "---",
    "",
    "*Interactive semiconductor device simulation using SemiconductorSim*"
   ]
  },
  {
   "cell_type": "code",
   "execution_count": null,
   "metadata": {},
   "outputs": [],
   "source": [
    "# Setup headless-safe plotting (Matplotlib)\n",
    "from semiconductor_sim.utils.plotting import use_headless_backend, apply_basic_style\n",
    "use_headless_backend('Agg')\n",
    "apply_basic_style()"
   ]
  },
  {
   "cell_type": "code",
   "execution_count": 5,
   "metadata": {},
   "outputs": [
    {
     "data": {
      "application/vnd.jupyter.widget-view+json": {
       "model_id": "09fdde7347dc4c6189bb3f67e5610175",
       "version_major": 2,
       "version_minor": 0
      },
      "text/plain": [
       "interactive(children=(FloatLogSlider(value=1e+17, description='Doping P:', layout=Layout(width='50%'), max=20.\u2026"
      ]
     },
     "metadata": {},
     "output_type": "display_data"
    },
    {
     "data": {
      "text/plain": [
       "<function __main__.update_plot(doping_p, oxide_thickness, temperature)>"
      ]
     },
     "execution_count": 5,
     "metadata": {},
     "output_type": "execute_result"
    }
   ],
   "source": [
    "# examples/example_mos_capacitor_interactive.ipynb\n",
    "\n",
    "import numpy as np\n",
    "import plotly.graph_objs as go\n",
    "from plotly.subplots import make_subplots\n",
    "from semiconductor_sim import MOSCapacitor\n",
    "import ipywidgets as widgets\n",
    "from IPython.display import display\n",
    "\n",
    "# Initialize widgets\n",
    "doping_p_slider = widgets.FloatLogSlider(\n",
    "    value=1e17,\n",
    "    base=10,\n",
    "    min=14,\n",
    "    max=20,\n",
    "    step=0.1,\n",
    "    description='Doping P:',\n",
    "    style={'description_width': 'initial'},\n",
    "    layout={'width': '50%'}\n",
    ")\n",
    "\n",
    "oxide_thickness_slider = widgets.FloatSlider(\n",
    "    value=1e-6,\n",
    "    min=1e-7,\n",
    "    max=1e-5,\n",
    "    step=1e-7,\n",
    "    description='Oxide Thickness (cm):',\n",
    "    style={'description_width': 'initial'},\n",
    "    layout={'width': '50%'}\n",
    ")\n",
    "\n",
    "temperature_slider = widgets.FloatSlider(\n",
    "    value=300,\n",
    "    min=250,\n",
    "    max=400,\n",
    "    step=10,\n",
    "    description='Temperature (K):',\n",
    "    style={'description_width': 'initial'},\n",
    "    layout={'width': '50%'}\n",
    ")\n",
    "\n",
    "# Define voltage range for IV characteristics\n",
    "voltage_iv = np.linspace(-5, 5, 500)\n",
    "\n",
    "# Define voltage range for C-V characteristics\n",
    "voltage_cv = np.linspace(0, 5, 500)\n",
    "\n",
    "# Define update function\n",
    "def update_plot(doping_p, oxide_thickness, temperature):\n",
    "    mos = MOSCapacitor(\n",
    "        doping_p=doping_p,\n",
    "        oxide_thickness=oxide_thickness,\n",
    "        temperature=temperature\n",
    "    )\n",
    "    \n",
    "    # IV Characteristics\n",
    "    current, recombination = mos.iv_characteristic(voltage_iv, n_conc=1e16, p_conc=1e16)\n",
    "    \n",
    "    # C-V Characteristics\n",
    "    capacitance = mos.capacitance(voltage_cv)\n",
    "    \n",
    "    fig = make_subplots(rows=2, cols=1, subplot_titles=(\"IV Characteristics\", \"C-V Characteristics\"))\n",
    "    \n",
    "    # IV Plot\n",
    "    fig.add_trace(go.Scatter(x=voltage_iv, y=current, mode='lines', name='IV Characteristic', line=dict(color='blue')), row=1, col=1)\n",
    "    fig.add_trace(go.Scatter(x=voltage_iv, y=recombination, mode='lines', name='SRH Recombination', line=dict(color='green', dash='dash')), row=1, col=1)\n",
    "    \n",
    "    # C-V Plot\n",
    "    fig.add_trace(go.Scatter(x=voltage_cv, y=capacitance, mode='lines', name='C-V Characteristic', line=dict(color='red')), row=2, col=1)\n",
    "    \n",
    "    fig.update_layout(\n",
    "        height=800,\n",
    "        title='MOS Capacitor IV and C-V Characteristics',\n",
    "        showlegend=True\n",
    "    )\n",
    "    \n",
    "    fig.update_xaxes(title_text=\"Voltage (V)\", row=1, col=1)\n",
    "    fig.update_yaxes(title_text=\"Current (A) / Recombination Rate (cm^-3 s^-1)\", row=1, col=1)\n",
    "    fig.update_xaxes(title_text=\"Voltage (V)\", row=2, col=1)\n",
    "    fig.update_yaxes(title_text=\"Capacitance (F)\", row=2, col=1)\n",
    "    \n",
    "    fig.show()\n",
    "\n",
    "# Create interactive plot\n",
    "widgets.interact(\n",
    "    update_plot,\n",
    "    doping_p=doping_p_slider,\n",
    "    oxide_thickness=oxide_thickness_slider,\n",
    "    temperature=temperature_slider\n",
    ")\n"
   ]
  }
 ],
 "metadata": {
  "kernelspec": {
   "display_name": "Python 3",
   "language": "python",
   "name": "python3"
  },
  "language_info": {
   "codemirror_mode": {
    "name": "ipython",
    "version": 3
   },
   "file_extension": ".py",
   "mimetype": "text/x-python",
   "name": "python",
   "nbconvert_exporter": "python",
   "pygments_lexer": "ipython3",
   "version": "3.13.6"
  }
 },
 "nbformat": 4,
 "nbformat_minor": 2
}