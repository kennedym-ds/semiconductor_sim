{
 "cells": [
  {
   "cell_type": "code",
   "execution_count": null,
   "metadata": {},
   "outputs": [],
   "source": [
    "# Setup headless-safe plotting (Matplotlib)\n",
    "from semiconductor_sim.utils.plotting import apply_basic_style, use_headless_backend\n",
    "\n",
    "use_headless_backend('Agg')\n",
    "apply_basic_style()"
   ]
  },
  {
   "cell_type": "code",
   "execution_count": 5,
   "metadata": {},
   "outputs": [
    {
     "data": {
      "application/vnd.jupyter.widget-view+json": {
       "model_id": "09fdde7347dc4c6189bb3f67e5610175",
       "version_major": 2,
       "version_minor": 0
      },
      "text/plain": [
       "interactive(children=(FloatLogSlider(value=1e+17, description='Doping P:', layout=Layout(width='50%'), max=20.…"
      ]
     },
     "metadata": {},
     "output_type": "display_data"
    },
    {
     "data": {
      "text/plain": [
       "<function __main__.update_plot(doping_p, oxide_thickness, temperature)>"
      ]
     },
     "execution_count": 5,
     "metadata": {},
     "output_type": "execute_result"
    }
   ],
   "source": [
    "# examples/example_mos_capacitor_interactive.ipynb\n",
    "\n",
    "import ipywidgets as widgets\n",
    "import numpy as np\n",
    "import plotly.graph_objs as go\n",
    "from plotly.subplots import make_subplots\n",
    "\n",
    "from semiconductor_sim import MOSCapacitor\n",
    "\n",
    "# Initialize widgets\n",
    "doping_p_slider = widgets.FloatLogSlider(\n",
    "    value=1e17,\n",
    "    base=10,\n",
    "    min=14,\n",
    "    max=20,\n",
    "    step=0.1,\n",
    "    description='Doping P:',\n",
    "    style={'description_width': 'initial'},\n",
    "    layout={'width': '50%'},\n",
    ")\n",
    "\n",
    "oxide_thickness_slider = widgets.FloatSlider(\n",
    "    value=1e-6,\n",
    "    min=1e-7,\n",
    "    max=1e-5,\n",
    "    step=1e-7,\n",
    "    description='Oxide Thickness (cm):',\n",
    "    style={'description_width': 'initial'},\n",
    "    layout={'width': '50%'},\n",
    ")\n",
    "\n",
    "temperature_slider = widgets.FloatSlider(\n",
    "    value=300,\n",
    "    min=250,\n",
    "    max=400,\n",
    "    step=10,\n",
    "    description='Temperature (K):',\n",
    "    style={'description_width': 'initial'},\n",
    "    layout={'width': '50%'},\n",
    ")\n",
    "\n",
    "# Define voltage range for IV characteristics\n",
    "voltage_iv = np.linspace(-5, 5, 500)\n",
    "\n",
    "# Define voltage range for C-V characteristics\n",
    "voltage_cv = np.linspace(0, 5, 500)\n",
    "\n",
    "\n",
    "# Define update function\n",
    "def update_plot(doping_p, oxide_thickness, temperature):\n",
    "    mos = MOSCapacitor(doping_p=doping_p, oxide_thickness=oxide_thickness, temperature=temperature)\n",
    "\n",
    "    # IV Characteristics\n",
    "    current, recombination = mos.iv_characteristic(voltage_iv, n_conc=1e16, p_conc=1e16)\n",
    "\n",
    "    # C-V Characteristics\n",
    "    capacitance = mos.capacitance(voltage_cv)\n",
    "\n",
    "    fig = make_subplots(\n",
    "        rows=2, cols=1, subplot_titles=(\"IV Characteristics\", \"C-V Characteristics\")\n",
    "    )\n",
    "\n",
    "    # IV Plot\n",
    "    fig.add_trace(\n",
    "        go.Scatter(\n",
    "            x=voltage_iv, y=current, mode='lines', name='IV Characteristic', line=dict(color='blue')\n",
    "        ),\n",
    "        row=1,\n",
    "        col=1,\n",
    "    )\n",
    "    fig.add_trace(\n",
    "        go.Scatter(\n",
    "            x=voltage_iv,\n",
    "            y=recombination,\n",
    "            mode='lines',\n",
    "            name='SRH Recombination',\n",
    "            line=dict(color='green', dash='dash'),\n",
    "        ),\n",
    "        row=1,\n",
    "        col=1,\n",
    "    )\n",
    "\n",
    "    # C-V Plot\n",
    "    fig.add_trace(\n",
    "        go.Scatter(\n",
    "            x=voltage_cv,\n",
    "            y=capacitance,\n",
    "            mode='lines',\n",
    "            name='C-V Characteristic',\n",
    "            line=dict(color='red'),\n",
    "        ),\n",
    "        row=2,\n",
    "        col=1,\n",
    "    )\n",
    "\n",
    "    fig.update_layout(height=800, title='MOS Capacitor IV and C-V Characteristics', showlegend=True)\n",
    "\n",
    "    fig.update_xaxes(title_text=\"Voltage (V)\", row=1, col=1)\n",
    "    fig.update_yaxes(title_text=\"Current (A) / Recombination Rate (cm^-3 s^-1)\", row=1, col=1)\n",
    "    fig.update_xaxes(title_text=\"Voltage (V)\", row=2, col=1)\n",
    "    fig.update_yaxes(title_text=\"Capacitance (F)\", row=2, col=1)\n",
    "\n",
    "    fig.show()\n",
    "\n",
    "\n",
    "# Create interactive plot\n",
    "widgets.interact(\n",
    "    update_plot,\n",
    "    doping_p=doping_p_slider,\n",
    "    oxide_thickness=oxide_thickness_slider,\n",
    "    temperature=temperature_slider,\n",
    ")"
   ]
  }
 ],
 "metadata": {
  "kernelspec": {
   "display_name": "Python 3",
   "language": "python",
   "name": "python3"
  },
  "language_info": {
   "codemirror_mode": {
    "name": "ipython",
    "version": 3
   },
   "file_extension": ".py",
   "mimetype": "text/x-python",
   "name": "python",
   "nbconvert_exporter": "python",
   "pygments_lexer": "ipython3",
   "version": "3.13.6"
  }
 },
 "nbformat": 4,
 "nbformat_minor": 2
}
